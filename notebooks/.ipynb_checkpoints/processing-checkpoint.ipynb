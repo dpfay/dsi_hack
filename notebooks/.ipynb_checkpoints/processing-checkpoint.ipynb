{
 "cells": [
  {
   "cell_type": "code",
   "execution_count": 172,
   "metadata": {},
   "outputs": [],
   "source": [
    "import pandas as pd\n",
    "import numpy as np\n",
    "from gensim.models import Word2Vec\n",
    "import json\n",
    "from sklearn.preprocessing import LabelEncoder"
   ]
  },
  {
   "cell_type": "code",
   "execution_count": 8,
   "metadata": {},
   "outputs": [],
   "source": [
    "tr = pd.read_csv('../data/train_clean.csv').drop(columns = 'Unnamed: 0')\n",
    "\n",
    "with open('../data/test.json') as f:\n",
    "    ts = json.load(f)"
   ]
  },
  {
   "cell_type": "code",
   "execution_count": 10,
   "metadata": {},
   "outputs": [],
   "source": [
    "ts = pd.DataFrame(ts)"
   ]
  },
  {
   "cell_type": "code",
   "execution_count": 73,
   "metadata": {},
   "outputs": [],
   "source": [
    "xtr = []\n",
    "\n",
    "for i in range(len(tr)):\n",
    "    ings = []\n",
    "    for y in eval(tr.loc[i, 'ingredients']):\n",
    "        ing = y.replace(' ', '_')\n",
    "        ings.append(ing)\n",
    "    xtr.append(dict(zip(ings, np.ones(len(ings)))))"
   ]
  },
  {
   "cell_type": "code",
   "execution_count": 113,
   "metadata": {},
   "outputs": [],
   "source": [
    "all_ings = []\n",
    "\n",
    "for x in xtr:\n",
    "    all_ings += list(x.keys())    \n",
    "\n",
    "all_ings = set(all_ings)"
   ]
  },
  {
   "cell_type": "code",
   "execution_count": 123,
   "metadata": {},
   "outputs": [],
   "source": [
    "ings = dict([])\n",
    "\n",
    "for x in all_ings:\n",
    "    ings[x] = 0"
   ]
  },
  {
   "cell_type": "code",
   "execution_count": 135,
   "metadata": {},
   "outputs": [],
   "source": [
    "for i in range(len(xtr)):\n",
    "    diff = all_ings.difference(set(xtr[i].keys()))\n",
    "    for food in diff:\n",
    "        xtr[i][food] = 0"
   ]
  },
  {
   "cell_type": "code",
   "execution_count": 163,
   "metadata": {},
   "outputs": [],
   "source": [
    "xts = []\n",
    "\n",
    "for i in range(len(ts)):\n",
    "    ings = []\n",
    "    for y in ts.loc[i, 'ingredients']:\n",
    "        ings.append(y.replace(' ', '_'))\n",
    "    xts.append(dict(zip(ings, np.ones(len(ings)))))"
   ]
  },
  {
   "cell_type": "code",
   "execution_count": 164,
   "metadata": {},
   "outputs": [],
   "source": [
    "for i in range(len(xts)):\n",
    "    diff = all_ings.difference(set(xts[i].keys()))\n",
    "    for food in diff:\n",
    "        xts[i][food] = 0"
   ]
  },
  {
   "cell_type": "code",
   "execution_count": 168,
   "metadata": {},
   "outputs": [],
   "source": [
    "xts = pd.DataFrame(xts)"
   ]
  },
  {
   "cell_type": "code",
   "execution_count": 169,
   "metadata": {},
   "outputs": [],
   "source": [
    "xtr = pd.DataFrame(xtr)"
   ]
  },
  {
   "cell_type": "code",
   "execution_count": 170,
   "metadata": {},
   "outputs": [],
   "source": [
    "xts.to_csv('../data/x_test.csv', index = False)"
   ]
  },
  {
   "cell_type": "code",
   "execution_count": 171,
   "metadata": {},
   "outputs": [],
   "source": [
    "xtr.to_csv('../data/x_train.csv', index = False)"
   ]
  },
  {
   "cell_type": "code",
   "execution_count": 174,
   "metadata": {},
   "outputs": [],
   "source": [
    "le = LabelEncoder()\n",
    "ytr = le.fit_transform(tr.cuisine)"
   ]
  },
  {
   "cell_type": "code",
   "execution_count": 186,
   "metadata": {},
   "outputs": [],
   "source": [
    "class_dict = dict([])\n",
    "\n",
    "for i in range(len(le.classes_)):\n",
    "    class_dict[le.classes_[i]] = i"
   ]
  },
  {
   "cell_type": "code",
   "execution_count": 188,
   "metadata": {},
   "outputs": [
    {
     "name": "stdout",
     "output_type": "stream",
     "text": [
      "Stored 'class_dict' (dict)\n"
     ]
    }
   ],
   "source": [
    "%store class_dict"
   ]
  },
  {
   "cell_type": "code",
   "execution_count": 192,
   "metadata": {},
   "outputs": [],
   "source": [
    "cuisines = pd.DataFrame(ytr)\n",
    "ids = pd.DataFrame(ts['id'])"
   ]
  },
  {
   "cell_type": "code",
   "execution_count": 194,
   "metadata": {},
   "outputs": [],
   "source": [
    "cuisines.to_csv('../data/cuisines.csv', index = False)\n",
    "ids.to_csv('../data/ids.csv', index = False)"
   ]
  }
 ],
 "metadata": {
  "kernelspec": {
   "display_name": "Python 3",
   "language": "python",
   "name": "python3"
  },
  "language_info": {
   "codemirror_mode": {
    "name": "ipython",
    "version": 3
   },
   "file_extension": ".py",
   "mimetype": "text/x-python",
   "name": "python",
   "nbconvert_exporter": "python",
   "pygments_lexer": "ipython3",
   "version": "3.8.3"
  }
 },
 "nbformat": 4,
 "nbformat_minor": 4
}
